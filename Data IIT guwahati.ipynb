{
 "cells": [
  {
   "cell_type": "code",
   "execution_count": 4,
   "id": "714c0dbc",
   "metadata": {},
   "outputs": [],
   "source": [
    "import os\n",
    "import pandas as pd\n",
    "from sklearn.model_selection import train_test_split\n",
    "from sklearn.preprocessing import StandardScaler\n",
    "from sklearn.impute import SimpleImputer\n",
    "from sklearn.preprocessing import OneHotEncoder\n",
    "from sklearn.compose import ColumnTransformer\n",
    "from sklearn.pipeline import Pipeline\n",
    "from sklearn.ensemble import RandomForestClassifier\n",
    "from sklearn.multioutput import MultiOutputClassifier\n",
    "from sklearn.metrics import roc_auc_score\n",
    "from sklearn.svm import SVC\n",
    "from sklearn.linear_model import LogisticRegression\n",
    "from sklearn.naive_bayes import GaussianNB\n",
    "from sklearn.linear_model import LogisticRegression\n"
   ]
  },
  {
   "cell_type": "code",
   "execution_count": 5,
   "id": "0c6fc1f3",
   "metadata": {},
   "outputs": [],
   "source": [
    "training_set_features = pd.read_csv('training_set_features.csv')\n",
    "training_set_labels = pd.read_csv('training_set_labels.csv')\n",
    "test_set_features = pd.read_csv('test_set_features.csv')\n",
    "submission_format = pd.read_csv('submission_format.csv')"
   ]
  },
  {
   "cell_type": "code",
   "execution_count": 6,
   "id": "847ec865",
   "metadata": {},
   "outputs": [
    {
     "data": {
      "text/plain": [
       "(Index(['respondent_id', 'xyz_concern', 'xyz_knowledge',\n",
       "        'behavioral_antiviral_meds', 'behavioral_avoidance',\n",
       "        'behavioral_face_mask', 'behavioral_wash_hands',\n",
       "        'behavioral_large_gatherings', 'behavioral_outside_home',\n",
       "        'behavioral_touch_face', 'doctor_recc_xyz', 'doctor_recc_seasonal',\n",
       "        'chronic_med_condition', 'child_under_6_months', 'health_worker',\n",
       "        'health_insurance', 'opinion_xyz_vacc_effective', 'opinion_xyz_risk',\n",
       "        'opinion_xyz_sick_from_vacc', 'opinion_seas_vacc_effective',\n",
       "        'opinion_seas_risk', 'opinion_seas_sick_from_vacc', 'age_group',\n",
       "        'education', 'race', 'sex', 'income_poverty', 'marital_status',\n",
       "        'rent_or_own', 'employment_status', 'hhs_geo_region', 'census_msa',\n",
       "        'household_adults', 'household_children', 'employment_industry',\n",
       "        'employment_occupation'],\n",
       "       dtype='object'),\n",
       " Index(['respondent_id', 'xyz_vaccine', 'seasonal_vaccine'], dtype='object'),\n",
       " Index(['respondent_id', 'xyz_concern', 'xyz_knowledge',\n",
       "        'behavioral_antiviral_meds', 'behavioral_avoidance',\n",
       "        'behavioral_face_mask', 'behavioral_wash_hands',\n",
       "        'behavioral_large_gatherings', 'behavioral_outside_home',\n",
       "        'behavioral_touch_face', 'doctor_recc_xyz', 'doctor_recc_seasonal',\n",
       "        'chronic_med_condition', 'child_under_6_months', 'health_worker',\n",
       "        'health_insurance', 'opinion_xyz_vacc_effective', 'opinion_xyz_risk',\n",
       "        'opinion_xyz_sick_from_vacc', 'opinion_seas_vacc_effective',\n",
       "        'opinion_seas_risk', 'opinion_seas_sick_from_vacc', 'age_group',\n",
       "        'education', 'race', 'sex', 'income_poverty', 'marital_status',\n",
       "        'rent_or_own', 'employment_status', 'hhs_geo_region', 'census_msa',\n",
       "        'household_adults', 'household_children', 'employment_industry',\n",
       "        'employment_occupation'],\n",
       "       dtype='object'),\n",
       " Index(['respondent_id', 'h1n1_vaccine', 'seasonal_vaccine'], dtype='object'))"
      ]
     },
     "execution_count": 6,
     "metadata": {},
     "output_type": "execute_result"
    }
   ],
   "source": [
    "training_set_features.columns, training_set_labels.columns, test_set_features.columns, submission_format.columns"
   ]
  },
  {
   "cell_type": "code",
   "execution_count": 7,
   "id": "638d4d86",
   "metadata": {},
   "outputs": [],
   "source": [
    "df_train = pd.merge(training_set_features, training_set_labels, on='respondent_id')\n",
    "\n",
    "X = df_train.drop(columns=['respondent_id', 'xyz_vaccine', 'seasonal_vaccine'])\n",
    "y = df_train[['xyz_vaccine', 'seasonal_vaccine']]\n",
    "\n",
    "# Split the data into training and validation sets\n",
    "X_train, X_valid, y_train, y_valid = train_test_split(X, y, test_size=0.2, random_state=42)"
   ]
  },
  {
   "cell_type": "code",
   "execution_count": 8,
   "id": "ee395f95",
   "metadata": {},
   "outputs": [],
   "source": [
    "categorical_cols = [cname for cname in X.columns if X[cname].dtype == \"object\"]\n",
    "numerical_cols = [cname for cname in X.columns if X[cname].dtype in ['int64', 'float64']]\n",
    "\n",
    "# Preprocessing for numerical data\n",
    "numerical_transformer = Pipeline(steps=[\n",
    "    ('imputer', SimpleImputer(strategy='median')),\n",
    "    ('scaler', StandardScaler())])\n",
    "\n",
    "# Preprocessing for categorical data\n",
    "categorical_transformer = Pipeline(steps=[\n",
    "    ('onehot', OneHotEncoder(handle_unknown='ignore'))])\n",
    "# Bundle preprocessing for numerical and categorical data\n",
    "preprocessor = ColumnTransformer(\n",
    "    transformers=[\n",
    "        ('num', numerical_transformer, numerical_cols),\n",
    "        ('cat', categorical_transformer, categorical_cols)\n",
    "    ]\n",
    ")"
   ]
  },
  {
   "cell_type": "code",
   "execution_count": 10,
   "id": "7c567b7c",
   "metadata": {},
   "outputs": [
    {
     "name": "stdout",
     "output_type": "stream",
     "text": [
      "\n",
      "Logistic Regression Results:\n",
      "ROC AUC for xyz_vaccine: 0.8317947457327989\n",
      "ROC AUC for seasonal_vaccine: 0.8560944283113324\n",
      "Mean ROC AUC: 0.8439445870220657\n"
     ]
    }
   ],
   "source": [
    "import warnings\n",
    "warnings.filterwarnings('ignore')\n",
    "# Define the models\n",
    "models = {'Logistic Regression': LogisticRegression()}\n",
    "\n",
    "# Train and evaluate each model\n",
    "for name, model in models.items():\n",
    "    clf = Pipeline(steps=[('preprocessor', preprocessor),\n",
    "                          ('classifier', MultiOutputClassifier(model))])\n",
    "    clf.fit(X_train, y_train)\n",
    "\n",
    "    # Predict on validation set\n",
    "    y_valid_pred = clf.predict_proba(X_valid)\n",
    "\n",
    "    # Calculate ROC AUC\n",
    "    roc_auc_xyz = roc_auc_score(y_valid['xyz_vaccine'], y_valid_pred[0][:, 1], multi_class='ovr')\n",
    "    roc_auc_seasonal = roc_auc_score(y_valid['seasonal_vaccine'], y_valid_pred[1][:, 1], multi_class='ovr')\n",
    "    mean_roc_auc = (roc_auc_xyz + roc_auc_seasonal) / 2\n",
    "\n",
    "    print(f'\\n{name} Results:')\n",
    "    print(f'ROC AUC for xyz_vaccine: {roc_auc_xyz}')\n",
    "    print(f'ROC AUC for seasonal_vaccine: {roc_auc_seasonal}')\n",
    "    print(f'Mean ROC AUC: {mean_roc_auc}')"
   ]
  },
  {
   "cell_type": "code",
   "execution_count": 11,
   "id": "da41b7a7",
   "metadata": {},
   "outputs": [],
   "source": [
    "import warnings\n",
    "warnings.filterwarnings('ignore')\n",
    "\n",
    "best_model = 'Logistic Regression'\n",
    "best_clf = Pipeline(steps=[('preprocessor', preprocessor),\n",
    "                            ('classifier', MultiOutputClassifier(models[best_model]))])\n",
    "best_clf.fit(X, y)\n",
    "\n",
    "X_test = test_set_features.drop(columns=['respondent_id'])\n",
    "y_test_pred = best_clf.predict_proba(X_test)\n",
    "\n",
    "df_submission = pd.DataFrame({\n",
    "    'respondent_id': test_set_features['respondent_id'],\n",
    "    'xyz_vaccine': y_test_pred[0][:, 1],\n",
    "    'seasonal_vaccine': y_test_pred[1][:, 1]\n",
    "})\n",
    "submission_file_path = \"submission.csv\"\n",
    "df_submission.to_csv(submission_file_path, index=False)"
   ]
  },
  {
   "cell_type": "code",
   "execution_count": null,
   "id": "6f35f6c6",
   "metadata": {},
   "outputs": [],
   "source": []
  }
 ],
 "metadata": {
  "kernelspec": {
   "display_name": "Python 3 (ipykernel)",
   "language": "python",
   "name": "python3"
  },
  "language_info": {
   "codemirror_mode": {
    "name": "ipython",
    "version": 3
   },
   "file_extension": ".py",
   "mimetype": "text/x-python",
   "name": "python",
   "nbconvert_exporter": "python",
   "pygments_lexer": "ipython3",
   "version": "3.11.5"
  }
 },
 "nbformat": 4,
 "nbformat_minor": 5
}
